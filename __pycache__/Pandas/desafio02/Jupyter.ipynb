{
 "cells": [
  {
   "cell_type": "code",
   "execution_count": null,
   "metadata": {},
   "outputs": [],
   "source": [
    "#importando as libs\n",
    "import pandas as pd\n",
    "import numpy as np\n",
    "import matplotlib.pyplot as plt\n",
    "from dataprep.eda import plot, plot_correlation, plot_missing, plot_diff, create_report"
   ]
  },
  {
   "cell_type": "code",
   "execution_count": null,
   "metadata": {},
   "outputs": [],
   "source": [
    "#Lendo o arquivo CSV\n",
    "df = pd.read_csv('l:/Documentos/curso-em-video/__pycache__/Pandas/desafio02/ibm_hr.csv')\n",
    "\n",
    "#Definindo o escopo de leitura dos dados(10 linhas)\n",
    "df = df.head(100)\n",
    "df"
   ]
  },
  {
   "cell_type": "code",
   "execution_count": null,
   "metadata": {},
   "outputs": [],
   "source": [
    "#Filtrando pelas células desejadas\n",
    "filtro = df.filter(items=['Age', 'JobRole', 'YearsAtCompany', 'YearsWithCurrManager', 'Gender'])\n",
    "filtro"
   ]
  },
  {
   "cell_type": "code",
   "execution_count": null,
   "metadata": {},
   "outputs": [],
   "source": [
    "renomear = filtro.rename(columns={'Age':'Idade', 'JobRole': 'Cargo', 'YearsAtCompany':'TempoDeCasa', 'YearsWithCurrManager':'TempoNoAtualCargo','Gender':'Gênero'})\n",
    "df = renomear\n",
    "df"
   ]
  },
  {
   "cell_type": "code",
   "execution_count": null,
   "metadata": {},
   "outputs": [],
   "source": [
    "df['EntrouComAIdade'] = df['Idade'] - df['TempoDeCasa']\n",
    "df"
   ]
  },
  {
   "cell_type": "code",
   "execution_count": null,
   "metadata": {},
   "outputs": [],
   "source": [
    "plot_missing(df)"
   ]
  },
  {
   "cell_type": "code",
   "execution_count": null,
   "metadata": {},
   "outputs": [],
   "source": [
    "plot_correlation(df)"
   ]
  }
 ],
 "metadata": {
  "kernelspec": {
   "display_name": "base",
   "language": "python",
   "name": "python3"
  },
  "language_info": {
   "codemirror_mode": {
    "name": "ipython",
    "version": 3
   },
   "file_extension": ".py",
   "mimetype": "text/x-python",
   "name": "python",
   "nbconvert_exporter": "python",
   "pygments_lexer": "ipython3",
   "version": "3.11.7"
  }
 },
 "nbformat": 4,
 "nbformat_minor": 2
}
